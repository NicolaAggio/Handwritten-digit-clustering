{
 "cells": [
  {
   "cell_type": "code",
   "execution_count": 1,
   "metadata": {},
   "outputs": [],
   "source": [
    "import pickle\n",
    "import matplotlib.pyplot as plt\n",
    "\n",
    "from utils import load_tuning_results\n",
    "from post_processing import best_PCA, get_training_times, get_rand_scores\n",
    "from plot import plot_rand_score_vs_PCA, plot_training_time_vs_PCA"
   ]
  },
  {
   "cell_type": "markdown",
   "metadata": {},
   "source": [
    "Loading the results of the tuning phase."
   ]
  },
  {
   "cell_type": "code",
   "execution_count": 5,
   "metadata": {},
   "outputs": [
    {
     "data": {
      "text/plain": [
       "{2: ({'bandwidth': 0.6},\n",
       "  0.8733213576928748,\n",
       "  0.8781028718388341,\n",
       "  409.6313090324402),\n",
       " 12: ({'bandwidth': 3},\n",
       "  0.9008996019460416,\n",
       "  0.8974743330679893,\n",
       "  751.0388269424438),\n",
       " 22: ({'bandwidth': 3},\n",
       "  0.9051422220710146,\n",
       "  0.9050220643765435,\n",
       "  854.4349811077118),\n",
       " 32: ({'bandwidth': 4},\n",
       "  0.9056087503827441,\n",
       "  0.9062401159349295,\n",
       "  1058.237195968628),\n",
       " 42: ({'bandwidth': 4},\n",
       "  0.9062352714365097,\n",
       "  0.9069406241707999,\n",
       "  1186.1986198425293),\n",
       " 52: ({'bandwidth': 4},\n",
       "  0.9060026310119189,\n",
       "  0.9062473414569429,\n",
       "  1346.3464810848236),\n",
       " 62: ({'bandwidth': 4},\n",
       "  0.9058237222014313,\n",
       "  0.9058151164452064,\n",
       "  1466.7911171913147),\n",
       " 72: ({'bandwidth': 4},\n",
       "  0.9053063427800272,\n",
       "  0.905267813769314,\n",
       "  1631.3570199012756),\n",
       " 82: ({'bandwidth': 5},\n",
       "  0.9055885868517448,\n",
       "  0.906387769681383,\n",
       "  1739.423310995102),\n",
       " 92: ({'bandwidth': 5},\n",
       "  0.906012882885948,\n",
       "  0.906289020880534,\n",
       "  1865.2448987960815),\n",
       " 102: ({'bandwidth': 5},\n",
       "  0.9064193515462865,\n",
       "  0.9068070540689486,\n",
       "  2044.737817287445),\n",
       " 112: ({'bandwidth': 5},\n",
       "  0.9067152723437554,\n",
       "  0.9069167023860552,\n",
       "  2152.858234167099),\n",
       " 122: ({'bandwidth': 5},\n",
       "  0.9069661257215437,\n",
       "  0.907087134896822,\n",
       "  2301.3314819335938),\n",
       " 132: ({'bandwidth': 5},\n",
       "  0.9069542181244967,\n",
       "  0.9068306492764272,\n",
       "  2498.5148499011993),\n",
       " 142: ({'bandwidth': 5},\n",
       "  0.9070824119121333,\n",
       "  0.9068667360643358,\n",
       "  2646.5576608181),\n",
       " 152: ({'bandwidth': 5},\n",
       "  0.9069219655473526,\n",
       "  0.9068941277325332,\n",
       "  2821.886663198471),\n",
       " 162: ({'bandwidth': 5},\n",
       "  0.9071207883963304,\n",
       "  0.9069837323699304,\n",
       "  2940.3478631973267),\n",
       " 172: ({'bandwidth': 5},\n",
       "  0.9073460347701834,\n",
       "  0.9072921845977997,\n",
       "  3106.6104397773743),\n",
       " 182: ({'bandwidth': 5},\n",
       "  0.9073552433118997,\n",
       "  0.9071006878533668,\n",
       "  3209.4725432395935),\n",
       " 192: ({'bandwidth': 5},\n",
       "  0.9072647002120686,\n",
       "  0.9072374829057213,\n",
       "  3495.2752029895782),\n",
       " 202: ({'bandwidth': 5},\n",
       "  0.9072248267728144,\n",
       "  0.9071391423264548,\n",
       "  3531.084284067154)}"
      ]
     },
     "execution_count": 5,
     "metadata": {},
     "output_type": "execute_result"
    }
   ],
   "source": [
    "meanshift = load_tuning_results(\"MeanShift\")\n",
    "meanshift"
   ]
  },
  {
   "cell_type": "markdown",
   "metadata": {},
   "source": [
    "Now we search for the PCA dimension corresponding to the best rand score.\n",
    "\n",
    "Recall: mean_shift is a dictionary in the following form:\n",
    "- the keys are the values of the PCA dimension;\n",
    "- the values are tuples containing (best estimator, Dict['bandwidth' : value], rand_score, training time, number of clusters)."
   ]
  },
  {
   "cell_type": "code",
   "execution_count": null,
   "metadata": {},
   "outputs": [],
   "source": [
    "best_PCA(meanshift)"
   ]
  }
 ],
 "metadata": {
  "kernelspec": {
   "display_name": "Python 3.10.7 64-bit",
   "language": "python",
   "name": "python3"
  },
  "language_info": {
   "codemirror_mode": {
    "name": "ipython",
    "version": 3
   },
   "file_extension": ".py",
   "mimetype": "text/x-python",
   "name": "python",
   "nbconvert_exporter": "python",
   "pygments_lexer": "ipython3",
   "version": "3.10.7"
  },
  "orig_nbformat": 4,
  "vscode": {
   "interpreter": {
    "hash": "aee8b7b246df8f9039afb4144a1f6fd8d2ca17a180786b69acc140d282b71a49"
   }
  }
 },
 "nbformat": 4,
 "nbformat_minor": 2
}
