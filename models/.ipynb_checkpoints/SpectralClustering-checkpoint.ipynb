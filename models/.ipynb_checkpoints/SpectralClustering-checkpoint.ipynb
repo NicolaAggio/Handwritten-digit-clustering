{
 "cells": [
  {
   "cell_type": "code",
   "execution_count": 5,
   "metadata": {},
   "outputs": [],
   "source": [
    "import numpy as np\n",
    "import matplotlib.pyplot as plt\n",
    "import time\n",
    "from sklearn.metrics import rand_score\n",
    "from sklearn.datasets import fetch_openml\n",
    "from sklearn.model_selection import train_test_split\n",
    "from sklearn.cluster import SpectralClustering\n",
    "from sklearn.decomposition import PCA\n",
    "from sklearn.preprocessing import StandardScaler\n",
    "from utils import *"
   ]
  },
  {
   "cell_type": "code",
   "execution_count": 6,
   "metadata": {},
   "outputs": [
    {
     "name": "stdout",
     "output_type": "stream",
     "text": [
      "8.644688463608271e-19\n",
      "0.9170918367346939\n"
     ]
    }
   ],
   "source": [
    "# importing the dataset\n",
    "X,y = fetch_openml('mnist_784', version=1, return_X_y=True)\n",
    "y = y.astype(int)\n",
    "    \n",
    "# deleting the columns with unique values and rescaling\n",
    "# X = X[:, ~np.all(X[1:] == X[:-1], axis=0)]\n",
    "X = X/255\n",
    "scaler = StandardScaler()\n",
    "X = scaler.fit_transform(X)\n",
    "\n",
    "# check if mean = 0 and std = 1\n",
    "print((X.mean(axis = 0)).mean())\n",
    "print((X.std(axis = 0)).mean())"
   ]
  },
  {
   "cell_type": "code",
   "execution_count": 7,
   "metadata": {},
   "outputs": [],
   "source": [
    "# splitting the data into train, validation and test\n",
    "X_old, X_new, y_old, y_new = train_test_split(X, y, test_size = 0.4, random_state = 0)\n",
    "X_train_80, X_test, y_train_80, y_test = train_test_split(X_new, y_new, test_size = 0.2, random_state = 0)\n",
    "X_train, X_valid , y_train, y_valid = train_test_split(X_train_80, y_train_80, test_size = 0.25, random_state = 0)"
   ]
  },
  {
   "cell_type": "code",
   "execution_count": 8,
   "metadata": {},
   "outputs": [
    {
     "name": "stdout",
     "output_type": "stream",
     "text": [
      "original dataset:  (70000, 784) (70000,)\n",
      "reduced dataset:  (28000, 784) (28000,)\n",
      "train set:  (16800, 784) (16800,)\n",
      "validation set:  (5600, 784) (5600,)\n",
      "test set:  (5600, 784) (5600,)\n"
     ]
    }
   ],
   "source": [
    "print(\"original dataset: \", X.shape, y.shape)\n",
    "print(\"reduced dataset: \", X_new.shape, y_new.shape)\n",
    "print(\"train set: \", X_train.shape, y_train.shape)\n",
    "print(\"validation set: \", X_valid.shape, y_valid.shape)\n",
    "print(\"test set: \", X_test.shape, y_test.shape)"
   ]
  },
  {
   "cell_type": "code",
   "execution_count": null,
   "metadata": {},
   "outputs": [],
   "source": [
    "five_train_time = []\n",
    "five_test_time = []\n",
    "five_rand = []\n",
    "\n",
    "seven_train_time = []\n",
    "seven_test_time = []\n",
    "seven_rand = []\n",
    "\n",
    "ten_train_time = []\n",
    "ten_test_time = []\n",
    "ten_rand = []\n",
    "\n",
    "twelve_train_time = []\n",
    "twelve_test_time = []\n",
    "twelve_rand = []\n",
    "\n",
    "fifteen_train_time = []\n",
    "fifteen_test_time = []\n",
    "fifteen_rand = []\n",
    "\n",
    "for n_comp in [2, 10, 50, 100, 150, 200]: \n",
    "    pca = PCA(n_components=n_comp)\n",
    "    X_train_proj = pca.fit_transform(X_train)\n",
    "    X_valid_proj = pca.fit_transform(X_valid)\n",
    "    print('Projected train and validation sets : ',X_train_proj.shape, X_valid_proj.shape)\n",
    "    \n",
    "    for k in [5, 7, 10, 12, 15]:\n",
    "            sc = SpectralClustering(n_clusters=k, assign_labels = 'cluster_qr', n_jobs = -1)\n",
    "\n",
    "            start_train = time.time()\n",
    "            sc.fit(X_train_proj)\n",
    "            time_train = time.time() - start_train\n",
    "\n",
    "            start_test = time.time()\n",
    "            labels = sc.predict(X_valid_proj)\n",
    "            time_test = time.time() - start_test\n",
    "\n",
    "            rand = rand_score(y_valid, labels)\n",
    "\n",
    "            print(f'n_comp : {n_comp} --- n_clusters : {k} --- rand index : {rand}')\n",
    "            print('Train time : ', time_train)\n",
    "            print('Test_time : ', time_test)\n",
    "\n",
    "            if k == 5:\n",
    "                five_train_time.append(time_train)\n",
    "                five_test_time.append(time_test)\n",
    "                five_rand.append(rand)\n",
    "            else:\n",
    "                if k == 7:\n",
    "                    seven_train_time.append(time_train)\n",
    "                    seven_test_time.append(time_test)\n",
    "                    seven_rand.append(rand)\n",
    "                else:\n",
    "                    if k == 10:\n",
    "                        ten_train_time.append(time_train)\n",
    "                        ten_test_time.append(time_test)\n",
    "                        ten_rand.append(rand)\n",
    "                    else:\n",
    "                        if k == 12:\n",
    "                            twelve_train_time.append(time_train)\n",
    "                            twelve_test_time.append(time_test)\n",
    "                            twelve_rand.append(rand)\n",
    "                        else:\n",
    "                            fifteen_train_time.append(time_train)\n",
    "                            fifteen_test_time.append(time_test)\n",
    "                            fifteen_rand.append(rand)"
   ]
  },
  {
   "cell_type": "code",
   "execution_count": null,
   "metadata": {},
   "outputs": [],
   "source": [
    "n_comp = [2, 10, 50, 100, 150, 200]\n",
    "\n",
    "matplot.subplots(figsize=(10, 5))\n",
    "matplot.plot(n_comp, five_train_time,'--x' ,color='blue' , label=\"k = 5\")\n",
    "matplot.plot(n_comp, seven_train_time,'--x', color = 'red' ,label=\"k = 7\")\n",
    "matplot.plot(n_comp, ten_train_time,'--x' ,color = 'green', label=\"k = 10\")\n",
    "matplot.plot(n_comp, twelve_train_time,'--x' , color = 'purple', label=\"k = 12\")\n",
    "matplot.plot(n_comp, fifteen_train_time,'--x' , color = 'orange', label=\"k = 15\")\n",
    "matplot.grid(True)\n",
    "matplot.xlabel(\"Number of components\")\n",
    "matplot.ylabel(\"Train time (s)\")\n",
    "matplot.legend()\n",
    "matplot.title('Train time versus the number of components')\n",
    "matplot.show()"
   ]
  },
  {
   "cell_type": "code",
   "execution_count": null,
   "metadata": {},
   "outputs": [],
   "source": [
    "matplot.subplots(figsize=(10, 5))\n",
    "matplot.plot(n_comp, five_test_time,'--x' ,color='blue' , label=\"k = 5\")\n",
    "matplot.plot(n_comp, seven_test_time,'--x', color = 'red' ,label=\"k = 7\")\n",
    "matplot.plot(n_comp, ten_test_time,'--x' ,color = 'green', label=\"k = 10\")\n",
    "matplot.plot(n_comp, twelve_test_time,'--x' , color = 'purple', label=\"k = 12\")\n",
    "matplot.plot(n_comp, fifteen_test_time,'--x' , color = 'orange', label=\"k = 15\")\n",
    "matplot.grid(True)\n",
    "matplot.xlabel(\"Number of components\")\n",
    "matplot.ylabel(\"Test time (s)\")\n",
    "matplot.legend()\n",
    "matplot.title('Test time versus the number of components')\n",
    "matplot.show()"
   ]
  },
  {
   "cell_type": "code",
   "execution_count": null,
   "metadata": {},
   "outputs": [],
   "source": [
    "matplot.subplots(figsize=(10, 5))\n",
    "matplot.plot(n_comp, five_rand,'--x' ,color='blue' , label=\"k = 5\")\n",
    "matplot.plot(n_comp, seven_rand,'--x', color = 'red' ,label=\"k = 7\")\n",
    "matplot.plot(n_comp, ten_rand,'--x' ,color = 'green', label=\"k = 10\")\n",
    "matplot.plot(n_comp, twelve_rand,'--x' , color = 'purple', label=\"k = 12\")\n",
    "matplot.plot(n_comp, fifteen_rand,'--x' , color = 'orange', label=\"k = 15\")\n",
    "matplot.grid(True)\n",
    "matplot.xlabel(\"Number of components\")\n",
    "matplot.ylabel(\"Rand index\")\n",
    "matplot.legend()\n",
    "matplot.title('Rand index versus the number of components')\n",
    "matplot.show()"
   ]
  }
 ],
 "metadata": {
  "kernelspec": {
   "display_name": "Python 3",
   "language": "python",
   "name": "python3"
  },
  "language_info": {
   "codemirror_mode": {
    "name": "ipython",
    "version": 3
   },
   "file_extension": ".py",
   "mimetype": "text/x-python",
   "name": "python",
   "nbconvert_exporter": "python",
   "pygments_lexer": "ipython3",
   "version": "3.8.5"
  }
 },
 "nbformat": 4,
 "nbformat_minor": 4
}
