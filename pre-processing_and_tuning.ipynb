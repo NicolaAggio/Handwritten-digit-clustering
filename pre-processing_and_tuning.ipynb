{
 "cells": [
  {
   "cell_type": "code",
   "execution_count": null,
   "id": "440ef22d",
   "metadata": {},
   "outputs": [],
   "source": [
    "from sklearn.preprocessing import StandardScaler\n",
    "from utils import download_dataset, apply_PCA\n",
    "from GridSearch_tuning import tune_model, save_results\n",
    "\n",
    "MAX_PCA_DIM = 200\n",
    "DATASET_PERC = 0.5\n",
    "TEST_SIZE = 0.2"
   ]
  },
  {
   "cell_type": "markdown",
   "id": "a57eb176",
   "metadata": {},
   "source": [
    "## Dataset"
   ]
  },
  {
   "cell_type": "code",
   "execution_count": null,
   "id": "d0614578",
   "metadata": {},
   "outputs": [],
   "source": [
    "X,y = download_dataset()"
   ]
  },
  {
   "cell_type": "code",
   "execution_count": null,
   "id": "ebd3e512",
   "metadata": {},
   "outputs": [],
   "source": [
    "X"
   ]
  },
  {
   "cell_type": "code",
   "execution_count": null,
   "id": "003925ae",
   "metadata": {},
   "outputs": [],
   "source": [
    "y"
   ]
  },
  {
   "cell_type": "code",
   "execution_count": null,
   "id": "a700a880",
   "metadata": {},
   "outputs": [],
   "source": [
    "# plot_digits(10, X, y)"
   ]
  },
  {
   "cell_type": "markdown",
   "id": "6f35bf41",
   "metadata": {},
   "source": [
    "## Pre-processing "
   ]
  },
  {
   "cell_type": "code",
   "execution_count": null,
   "id": "89c8aa22",
   "metadata": {},
   "outputs": [],
   "source": [
    "apply_PCA(X,y,MAX_PCA_DIM,DATASET_PERC,TEST_SIZE)"
   ]
  },
  {
   "cell_type": "markdown",
   "id": "db72ec94",
   "metadata": {},
   "source": [
    "## Tuning"
   ]
  },
  {
   "cell_type": "code",
   "execution_count": null,
   "id": "2cd7c461",
   "metadata": {},
   "outputs": [],
   "source": [
    "# print('-- GAUSSIAN MIXTURE --')\n",
    "# result = tune_model(\"GaussianMixture\", MAX_PCA_DIM, DATASET_PERC)\n",
    "# new_save_results(\"GaussianMixture\",result)"
   ]
  },
  {
   "cell_type": "markdown",
   "id": "21c2a641",
   "metadata": {},
   "source": [
    "## New Tuning"
   ]
  },
  {
   "cell_type": "code",
   "execution_count": null,
   "id": "84940f7b",
   "metadata": {},
   "outputs": [],
   "source": [
    "# print('-- GAUSSIAN MIXTURE --')\n",
    "# result = tune_model(\"GaussianMixture\", MAX_PCA_DIM, DATASET_PERC)\n",
    "# save_results(\"GaussianMixture\",result)"
   ]
  },
  {
   "cell_type": "code",
   "execution_count": null,
   "id": "a6cd75a4",
   "metadata": {},
   "outputs": [],
   "source": [
    "print('-- MEAN SHIFT --')\n",
    "result = tune_model(\"MeanShift\", MAX_PCA_DIM, DATASET_PERC)\n",
    "save_results(\"MeanShift\",result)"
   ]
  },
  {
   "cell_type": "code",
   "execution_count": null,
   "id": "9e910eee",
   "metadata": {},
   "outputs": [],
   "source": [
    "# print('-- NORMALIZED CUT --')\n",
    "# result = tune_model(\"NormalizedCut\", MAX_PCA_DIM, DATASET_PERC)\n",
    "# save_results(\"NormalizedCut\",result)"
   ]
  }
 ],
 "metadata": {
  "kernelspec": {
   "display_name": "Python 3 (ipykernel)",
   "language": "python",
   "name": "python3"
  },
  "language_info": {
   "codemirror_mode": {
    "name": "ipython",
    "version": 3
   },
   "file_extension": ".py",
   "mimetype": "text/x-python",
   "name": "python",
   "nbconvert_exporter": "python",
   "pygments_lexer": "ipython3",
   "version": "3.10.7"
  },
  "vscode": {
   "interpreter": {
    "hash": "aee8b7b246df8f9039afb4144a1f6fd8d2ca17a180786b69acc140d282b71a49"
   }
  }
 },
 "nbformat": 4,
 "nbformat_minor": 5
}
