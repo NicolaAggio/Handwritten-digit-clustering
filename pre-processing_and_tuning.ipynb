{
 "cells": [
  {
   "cell_type": "code",
   "execution_count": 1,
   "id": "440ef22d",
   "metadata": {},
   "outputs": [],
   "source": [
    "from sklearn.preprocessing import StandardScaler\n",
    "from loading import download_dataset\n",
    "from pre_processing import apply_PCA\n",
    "from GridSearch_tuning import tune_model, save_results\n",
    "\n",
    "PCA_DIMENSIONS = list(range(10,200+10,10))\n",
    "PCA_DIMENSIONS.insert(0,2)\n",
    "DATASET_PERC = 0.5\n",
    "TEST_SIZE = 0.2"
   ]
  },
  {
   "cell_type": "markdown",
   "id": "a57eb176",
   "metadata": {},
   "source": [
    "## Dataset"
   ]
  },
  {
   "cell_type": "code",
   "execution_count": 2,
   "id": "d0614578",
   "metadata": {},
   "outputs": [],
   "source": [
    "X,y = download_dataset()"
   ]
  },
  {
   "cell_type": "code",
   "execution_count": null,
   "id": "ebd3e512",
   "metadata": {},
   "outputs": [],
   "source": [
    "X"
   ]
  },
  {
   "cell_type": "code",
   "execution_count": null,
   "id": "003925ae",
   "metadata": {},
   "outputs": [],
   "source": [
    "y"
   ]
  },
  {
   "cell_type": "code",
   "execution_count": null,
   "id": "a700a880",
   "metadata": {},
   "outputs": [],
   "source": [
    "# plot_digits(10, X, y)"
   ]
  },
  {
   "cell_type": "markdown",
   "id": "6f35bf41",
   "metadata": {},
   "source": [
    "## Pre-processing "
   ]
  },
  {
   "cell_type": "code",
   "execution_count": null,
   "id": "89c8aa22",
   "metadata": {},
   "outputs": [],
   "source": [
    "apply_PCA(X,y,PCA_DIMENSIONS,DATASET_PERC,TEST_SIZE)"
   ]
  },
  {
   "cell_type": "markdown",
   "id": "db72ec94",
   "metadata": {},
   "source": [
    "## Tuning"
   ]
  },
  {
   "cell_type": "code",
   "execution_count": null,
   "id": "2cd7c461",
   "metadata": {},
   "outputs": [],
   "source": [
    "# print('-- GAUSSIAN MIXTURE --')\n",
    "# result = tune_model(\"GaussianMixture\", MAX_PCA_DIM, DATASET_PERC)\n",
    "# new_save_results(\"GaussianMixture\",result)"
   ]
  },
  {
   "cell_type": "markdown",
   "id": "21c2a641",
   "metadata": {},
   "source": [
    "## New Tuning"
   ]
  },
  {
   "cell_type": "code",
   "execution_count": null,
   "id": "84940f7b",
   "metadata": {},
   "outputs": [],
   "source": [
    "# print('-- GAUSSIAN MIXTURE --')\n",
    "# result = tune_model(\"GaussianMixture\", PCA_DIMENSIONS, DATASET_PERC)\n",
    "# save_results(\"GaussianMixture\",result)"
   ]
  },
  {
   "cell_type": "code",
   "execution_count": 3,
   "id": "a6cd75a4",
   "metadata": {},
   "outputs": [
    {
     "name": "stdout",
     "output_type": "stream",
     "text": [
      "-- MEAN SHIFT --\n"
     ]
    },
    {
     "name": "stderr",
     "output_type": "stream",
     "text": [
      "Loading the PCA training datasets..: 100%|██████████| 21/21 [00:00<00:00, 74.94it/s] \n"
     ]
    },
    {
     "data": {
      "application/vnd.jupyter.widget-view+json": {
       "model_id": "36c6c7ee003b4fb58f49f60091739389",
       "version_major": 2,
       "version_minor": 0
      },
      "text/plain": [
       "Tuning MeanShift ..:   0%|          | 0/21 [00:00<?, ?it/s]"
      ]
     },
     "metadata": {},
     "output_type": "display_data"
    },
    {
     "name": "stdout",
     "output_type": "stream",
     "text": [
      "PCA dimension =  2\n",
      "Best rand score =  0.8311318220090321\n",
      "Best parameters =  {'bandwidth': 0.6}\n",
      "Number of clusters =  19\n",
      "PCA dimension =  10\n",
      "Best rand score =  0.8996642640267394\n",
      "Best parameters =  {'bandwidth': 0.6}\n",
      "Number of clusters =  25841\n",
      "PCA dimension =  20\n",
      "Best rand score =  0.8996887964687572\n",
      "Best parameters =  {'bandwidth': 0.6}\n",
      "Number of clusters =  27429\n",
      "PCA dimension =  30\n",
      "Best rand score =  0.8996898043017886\n",
      "Best parameters =  {'bandwidth': 0.6}\n",
      "Number of clusters =  27837\n",
      "PCA dimension =  40\n",
      "Best rand score =  0.8996912969152655\n",
      "Best parameters =  {'bandwidth': 0.6}\n",
      "Number of clusters =  27949\n",
      "PCA dimension =  50\n",
      "Best rand score =  0.8996914244890668\n",
      "Best parameters =  {'bandwidth': 0.6}\n",
      "Number of clusters =  27979\n"
     ]
    },
    {
     "name": "stderr",
     "output_type": "stream",
     "text": [
      "/Library/Frameworks/Python.framework/Versions/3.10/lib/python3.10/site-packages/joblib/externals/loky/process_executor.py:700: UserWarning: A worker stopped while some jobs were given to the executor. This can be caused by a too short worker timeout or by a memory leak.\n",
      "  warnings.warn(\n"
     ]
    },
    {
     "name": "stdout",
     "output_type": "stream",
     "text": [
      "PCA dimension =  60\n",
      "Best rand score =  0.899690289082234\n",
      "Best parameters =  {'bandwidth': 0.6}\n",
      "Number of clusters =  27987\n",
      "PCA dimension =  70\n",
      "Best rand score =  0.8996890133442197\n",
      "Best parameters =  {'bandwidth': 0.6}\n",
      "Number of clusters =  27995\n"
     ]
    },
    {
     "name": "stderr",
     "output_type": "stream",
     "text": [
      "/Library/Frameworks/Python.framework/Versions/3.10/lib/python3.10/site-packages/joblib/externals/loky/process_executor.py:700: UserWarning: A worker stopped while some jobs were given to the executor. This can be caused by a too short worker timeout or by a memory leak.\n",
      "  warnings.warn(\n"
     ]
    },
    {
     "name": "stdout",
     "output_type": "stream",
     "text": [
      "PCA dimension =  80\n",
      "Best rand score =  0.8996917561809508\n",
      "Best parameters =  {'bandwidth': 0.6}\n",
      "Number of clusters =  27995\n",
      "PCA dimension =  90\n",
      "Best rand score =  0.8996906718036385\n",
      "Best parameters =  {'bandwidth': 0.6}\n",
      "Number of clusters =  27999\n",
      "PCA dimension =  100\n",
      "Best rand score =  0.8996885540785344\n",
      "Best parameters =  {'bandwidth': 0.6}\n",
      "Number of clusters =  27999\n",
      "PCA dimension =  110\n",
      "Best rand score =  0.8996911948562243\n",
      "Best parameters =  {'bandwidth': 0.6}\n",
      "Number of clusters =  27999\n",
      "PCA dimension =  120\n",
      "Best rand score =  0.8996897532722679\n",
      "Best parameters =  {'bandwidth': 0.6}\n",
      "Number of clusters =  28000\n",
      "PCA dimension =  130\n",
      "Best rand score =  0.8996893705508636\n",
      "Best parameters =  {'bandwidth': 0.6}\n",
      "Number of clusters =  28000\n"
     ]
    },
    {
     "name": "stderr",
     "output_type": "stream",
     "text": [
      "/Library/Frameworks/Python.framework/Versions/3.10/lib/python3.10/site-packages/joblib/externals/loky/process_executor.py:700: UserWarning: A worker stopped while some jobs were given to the executor. This can be caused by a too short worker timeout or by a memory leak.\n",
      "  warnings.warn(\n"
     ]
    },
    {
     "name": "stdout",
     "output_type": "stream",
     "text": [
      "PCA dimension =  140\n",
      "Best rand score =  0.8996868573469751\n",
      "Best parameters =  {'bandwidth': 0.6}\n",
      "Number of clusters =  28000\n",
      "PCA dimension =  150\n",
      "Best rand score =  0.8996887454392366\n",
      "Best parameters =  {'bandwidth': 0.6}\n",
      "Number of clusters =  28000\n"
     ]
    },
    {
     "name": "stderr",
     "output_type": "stream",
     "text": [
      "/Library/Frameworks/Python.framework/Versions/3.10/lib/python3.10/site-packages/joblib/externals/loky/process_executor.py:700: UserWarning: A worker stopped while some jobs were given to the executor. This can be caused by a too short worker timeout or by a memory leak.\n",
      "  warnings.warn(\n"
     ]
    },
    {
     "name": "stdout",
     "output_type": "stream",
     "text": [
      "PCA dimension =  160\n",
      "Best rand score =  0.8996886306228152\n",
      "Best parameters =  {'bandwidth': 0.6}\n",
      "Number of clusters =  28000\n"
     ]
    },
    {
     "name": "stderr",
     "output_type": "stream",
     "text": [
      "/Library/Frameworks/Python.framework/Versions/3.10/lib/python3.10/site-packages/joblib/externals/loky/process_executor.py:700: UserWarning: A worker stopped while some jobs were given to the executor. This can be caused by a too short worker timeout or by a memory leak.\n",
      "  warnings.warn(\n"
     ]
    },
    {
     "name": "stdout",
     "output_type": "stream",
     "text": [
      "PCA dimension =  170\n",
      "Best rand score =  0.8996892557344424\n",
      "Best parameters =  {'bandwidth': 0.6}\n",
      "Number of clusters =  28000\n"
     ]
    },
    {
     "name": "stderr",
     "output_type": "stream",
     "text": [
      "/Library/Frameworks/Python.framework/Versions/3.10/lib/python3.10/site-packages/joblib/externals/loky/process_executor.py:700: UserWarning: A worker stopped while some jobs were given to the executor. This can be caused by a too short worker timeout or by a memory leak.\n",
      "  warnings.warn(\n"
     ]
    },
    {
     "name": "stdout",
     "output_type": "stream",
     "text": [
      "PCA dimension =  180\n",
      "Best rand score =  0.8996885668359147\n",
      "Best parameters =  {'bandwidth': 0.6}\n",
      "Number of clusters =  28000\n"
     ]
    },
    {
     "name": "stderr",
     "output_type": "stream",
     "text": [
      "/Library/Frameworks/Python.framework/Versions/3.10/lib/python3.10/site-packages/joblib/externals/loky/process_executor.py:700: UserWarning: A worker stopped while some jobs were given to the executor. This can be caused by a too short worker timeout or by a memory leak.\n",
      "  warnings.warn(\n"
     ]
    },
    {
     "name": "stdout",
     "output_type": "stream",
     "text": [
      "PCA dimension =  190\n",
      "Best rand score =  0.8996897405148878\n",
      "Best parameters =  {'bandwidth': 0.6}\n",
      "Number of clusters =  28000\n"
     ]
    },
    {
     "name": "stderr",
     "output_type": "stream",
     "text": [
      "/Library/Frameworks/Python.framework/Versions/3.10/lib/python3.10/site-packages/joblib/externals/loky/process_executor.py:700: UserWarning: A worker stopped while some jobs were given to the executor. This can be caused by a too short worker timeout or by a memory leak.\n",
      "  warnings.warn(\n"
     ]
    },
    {
     "name": "stdout",
     "output_type": "stream",
     "text": [
      "PCA dimension =  200\n",
      "Best rand score =  0.9076163600642971\n",
      "Best parameters =  {'bandwidth': 5}\n",
      "Number of clusters =  6269\n"
     ]
    }
   ],
   "source": [
    "print('-- MEAN SHIFT --')\n",
    "result = tune_model(\"MeanShift\", PCA_DIMENSIONS, DATASET_PERC)\n",
    "save_results(\"MeanShift\",result)"
   ]
  },
  {
   "cell_type": "code",
   "execution_count": null,
   "id": "9e910eee",
   "metadata": {},
   "outputs": [],
   "source": [
    "# print('-- NORMALIZED CUT --')\n",
    "# result = tune_model(\"NormalizedCut\", PCA_DIMENSIONS, DATASET_PERC)\n",
    "# save_results(\"NormalizedCut\",result)"
   ]
  }
 ],
 "metadata": {
  "kernelspec": {
   "display_name": "Python 3 (ipykernel)",
   "language": "python",
   "name": "python3"
  },
  "language_info": {
   "codemirror_mode": {
    "name": "ipython",
    "version": 3
   },
   "file_extension": ".py",
   "mimetype": "text/x-python",
   "name": "python",
   "nbconvert_exporter": "python",
   "pygments_lexer": "ipython3",
   "version": "3.10.7"
  },
  "vscode": {
   "interpreter": {
    "hash": "aee8b7b246df8f9039afb4144a1f6fd8d2ca17a180786b69acc140d282b71a49"
   }
  }
 },
 "nbformat": 4,
 "nbformat_minor": 5
}
