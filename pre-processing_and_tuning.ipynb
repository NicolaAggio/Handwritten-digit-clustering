{
 "cells": [
  {
   "cell_type": "code",
   "execution_count": 1,
   "id": "440ef22d",
   "metadata": {},
   "outputs": [],
   "source": [
    "from sklearn.preprocessing import StandardScaler\n",
    "from utils import download_dataset, apply_PCA\n",
    "from GridSearch_tuning import tune_model, save_results\n",
    "\n",
    "MAX_PCA_DIM = 200\n",
    "DATASET_PERC = 0.5\n",
    "TEST_SIZE = 0.2"
   ]
  },
  {
   "cell_type": "markdown",
   "id": "a57eb176",
   "metadata": {},
   "source": [
    "## Dataset"
   ]
  },
  {
   "cell_type": "code",
   "execution_count": 2,
   "id": "d0614578",
   "metadata": {},
   "outputs": [],
   "source": [
    "X,y = download_dataset()"
   ]
  },
  {
   "cell_type": "code",
   "execution_count": null,
   "id": "ebd3e512",
   "metadata": {},
   "outputs": [],
   "source": [
    "X"
   ]
  },
  {
   "cell_type": "code",
   "execution_count": null,
   "id": "003925ae",
   "metadata": {},
   "outputs": [],
   "source": [
    "y"
   ]
  },
  {
   "cell_type": "code",
   "execution_count": null,
   "id": "a700a880",
   "metadata": {},
   "outputs": [],
   "source": [
    "# plot_digits(10, X, y)"
   ]
  },
  {
   "cell_type": "markdown",
   "id": "6f35bf41",
   "metadata": {},
   "source": [
    "## Pre-processing "
   ]
  },
  {
   "cell_type": "code",
   "execution_count": null,
   "id": "89c8aa22",
   "metadata": {},
   "outputs": [],
   "source": [
    "apply_PCA(X,y,MAX_PCA_DIM,DATASET_PERC,TEST_SIZE)"
   ]
  },
  {
   "cell_type": "markdown",
   "id": "db72ec94",
   "metadata": {},
   "source": [
    "## Tuning"
   ]
  },
  {
   "cell_type": "code",
   "execution_count": null,
   "id": "2cd7c461",
   "metadata": {},
   "outputs": [],
   "source": [
    "# print('-- GAUSSIAN MIXTURE --')\n",
    "# result = tune_model(\"GaussianMixture\", MAX_PCA_DIM, DATASET_PERC)\n",
    "# new_save_results(\"GaussianMixture\",result)"
   ]
  },
  {
   "cell_type": "markdown",
   "id": "21c2a641",
   "metadata": {},
   "source": [
    "## New Tuning"
   ]
  },
  {
   "cell_type": "code",
   "execution_count": null,
   "id": "84940f7b",
   "metadata": {},
   "outputs": [],
   "source": [
    "# print('-- GAUSSIAN MIXTURE --')\n",
    "# result = tune_model(\"GaussianMixture\", MAX_PCA_DIM, DATASET_PERC)\n",
    "# save_results(\"GaussianMixture\",result)"
   ]
  },
  {
   "cell_type": "code",
   "execution_count": 3,
   "id": "a6cd75a4",
   "metadata": {},
   "outputs": [
    {
     "name": "stdout",
     "output_type": "stream",
     "text": [
      "-- MEAN SHIFT --\n"
     ]
    },
    {
     "name": "stderr",
     "output_type": "stream",
     "text": [
      "Loading the PCA training datasets..: 100%|██████████| 21/21 [00:00<00:00, 69.18it/s] \n"
     ]
    },
    {
     "data": {
      "application/vnd.jupyter.widget-view+json": {
       "model_id": "09afcc9767a24769b87cdad26341fb0d",
       "version_major": 2,
       "version_minor": 0
      },
      "text/plain": [
       "Tuning MeanShift ..:   0%|          | 0/21 [00:00<?, ?it/s]"
      ]
     },
     "metadata": {},
     "output_type": "display_data"
    },
    {
     "name": "stdout",
     "output_type": "stream",
     "text": [
      "PCA dimension =  2\n",
      "Best rand score =  0.836957849616003\n",
      "Best parameters =  {'bandwidth': 0.6}\n",
      "Number of clusters =  16\n",
      "PCA dimension =  12\n",
      "Best rand score =  0.899709272063889\n",
      "Best parameters =  {'bandwidth': 0.6}\n",
      "Number of clusters =  26290\n",
      "PCA dimension =  22\n",
      "Best rand score =  0.8997231520934861\n",
      "Best parameters =  {'bandwidth': 0.6}\n",
      "Number of clusters =  27548\n",
      "PCA dimension =  32\n",
      "Best rand score =  0.8997226290409002\n",
      "Best parameters =  {'bandwidth': 0.6}\n",
      "Number of clusters =  27875\n",
      "PCA dimension =  42\n",
      "Best rand score =  0.8997228586737428\n",
      "Best parameters =  {'bandwidth': 0.6}\n",
      "Number of clusters =  27953\n",
      "PCA dimension =  52\n",
      "Best rand score =  0.8997234965427501\n",
      "Best parameters =  {'bandwidth': 0.6}\n",
      "Number of clusters =  27982\n"
     ]
    },
    {
     "name": "stderr",
     "output_type": "stream",
     "text": [
      "/Library/Frameworks/Python.framework/Versions/3.10/lib/python3.10/site-packages/joblib/externals/loky/process_executor.py:700: UserWarning: A worker stopped while some jobs were given to the executor. This can be caused by a too short worker timeout or by a memory leak.\n",
      "  warnings.warn(\n"
     ]
    },
    {
     "name": "stdout",
     "output_type": "stream",
     "text": [
      "PCA dimension =  62\n",
      "Best rand score =  0.8997221697752149\n",
      "Best parameters =  {'bandwidth': 0.6}\n",
      "Number of clusters =  27993\n"
     ]
    },
    {
     "name": "stderr",
     "output_type": "stream",
     "text": [
      "/Library/Frameworks/Python.framework/Versions/3.10/lib/python3.10/site-packages/joblib/externals/loky/process_executor.py:700: UserWarning: A worker stopped while some jobs were given to the executor. This can be caused by a too short worker timeout or by a memory leak.\n",
      "  warnings.warn(\n"
     ]
    },
    {
     "name": "stdout",
     "output_type": "stream",
     "text": [
      "PCA dimension =  72\n",
      "Best rand score =  0.89972173602429\n",
      "Best parameters =  {'bandwidth': 0.6}\n",
      "Number of clusters =  27993\n",
      "PCA dimension =  82\n",
      "Best rand score =  0.8997212257290842\n",
      "Best parameters =  {'bandwidth': 0.6}\n",
      "Number of clusters =  27998\n",
      "PCA dimension =  92\n",
      "Best rand score =  0.8997215446635879\n",
      "Best parameters =  {'bandwidth': 0.6}\n",
      "Number of clusters =  27999\n",
      "PCA dimension =  102\n",
      "Best rand score =  0.8997201668665322\n",
      "Best parameters =  {'bandwidth': 0.6}\n",
      "Number of clusters =  27999\n",
      "PCA dimension =  112\n",
      "Best rand score =  0.8997212512438445\n",
      "Best parameters =  {'bandwidth': 0.6}\n",
      "Number of clusters =  28000\n"
     ]
    },
    {
     "name": "stderr",
     "output_type": "stream",
     "text": [
      "/Library/Frameworks/Python.framework/Versions/3.10/lib/python3.10/site-packages/joblib/externals/loky/process_executor.py:700: UserWarning: A worker stopped while some jobs were given to the executor. This can be caused by a too short worker timeout or by a memory leak.\n",
      "  warnings.warn(\n"
     ]
    },
    {
     "name": "stdout",
     "output_type": "stream",
     "text": [
      "PCA dimension =  122\n",
      "Best rand score =  0.8997206261322175\n",
      "Best parameters =  {'bandwidth': 0.6}\n",
      "Number of clusters =  28000\n"
     ]
    },
    {
     "name": "stderr",
     "output_type": "stream",
     "text": [
      "/Library/Frameworks/Python.framework/Versions/3.10/lib/python3.10/site-packages/joblib/externals/loky/process_executor.py:700: UserWarning: A worker stopped while some jobs were given to the executor. This can be caused by a too short worker timeout or by a memory leak.\n",
      "  warnings.warn(\n"
     ]
    },
    {
     "name": "stdout",
     "output_type": "stream",
     "text": [
      "PCA dimension =  132\n",
      "Best rand score =  0.8997219401423724\n",
      "Best parameters =  {'bandwidth': 0.6}\n",
      "Number of clusters =  28000\n"
     ]
    },
    {
     "name": "stderr",
     "output_type": "stream",
     "text": [
      "/Library/Frameworks/Python.framework/Versions/3.10/lib/python3.10/site-packages/joblib/externals/loky/process_executor.py:700: UserWarning: A worker stopped while some jobs were given to the executor. This can be caused by a too short worker timeout or by a memory leak.\n",
      "  warnings.warn(\n"
     ]
    },
    {
     "name": "stdout",
     "output_type": "stream",
     "text": [
      "PCA dimension =  142\n",
      "Best rand score =  0.89971994999107\n",
      "Best parameters =  {'bandwidth': 0.6}\n",
      "Number of clusters =  28000\n"
     ]
    },
    {
     "name": "stderr",
     "output_type": "stream",
     "text": [
      "/Library/Frameworks/Python.framework/Versions/3.10/lib/python3.10/site-packages/joblib/externals/loky/process_executor.py:700: UserWarning: A worker stopped while some jobs were given to the executor. This can be caused by a too short worker timeout or by a memory leak.\n",
      "  warnings.warn(\n"
     ]
    },
    {
     "name": "stdout",
     "output_type": "stream",
     "text": [
      "PCA dimension =  152\n",
      "Best rand score =  0.899720307197714\n",
      "Best parameters =  {'bandwidth': 0.6}\n",
      "Number of clusters =  28000\n"
     ]
    },
    {
     "name": "stderr",
     "output_type": "stream",
     "text": [
      "/Library/Frameworks/Python.framework/Versions/3.10/lib/python3.10/site-packages/joblib/externals/loky/process_executor.py:700: UserWarning: A worker stopped while some jobs were given to the executor. This can be caused by a too short worker timeout or by a memory leak.\n",
      "  warnings.warn(\n"
     ]
    },
    {
     "name": "stdout",
     "output_type": "stream",
     "text": [
      "PCA dimension =  162\n",
      "Best rand score =  0.8997205240731763\n",
      "Best parameters =  {'bandwidth': 0.6}\n",
      "Number of clusters =  28000\n"
     ]
    },
    {
     "name": "stderr",
     "output_type": "stream",
     "text": [
      "/Library/Frameworks/Python.framework/Versions/3.10/lib/python3.10/site-packages/joblib/externals/loky/process_executor.py:700: UserWarning: A worker stopped while some jobs were given to the executor. This can be caused by a too short worker timeout or by a memory leak.\n",
      "  warnings.warn(\n"
     ]
    },
    {
     "name": "stdout",
     "output_type": "stream",
     "text": [
      "PCA dimension =  172\n",
      "Best rand score =  0.8997189676727988\n",
      "Best parameters =  {'bandwidth': 0.6}\n",
      "Number of clusters =  28000\n"
     ]
    },
    {
     "name": "stderr",
     "output_type": "stream",
     "text": [
      "/Library/Frameworks/Python.framework/Versions/3.10/lib/python3.10/site-packages/joblib/externals/loky/process_executor.py:700: UserWarning: A worker stopped while some jobs were given to the executor. This can be caused by a too short worker timeout or by a memory leak.\n",
      "  warnings.warn(\n"
     ]
    },
    {
     "name": "stdout",
     "output_type": "stream",
     "text": [
      "PCA dimension =  182\n",
      "Best rand score =  0.8997195927844258\n",
      "Best parameters =  {'bandwidth': 0.6}\n",
      "Number of clusters =  28000\n"
     ]
    },
    {
     "name": "stderr",
     "output_type": "stream",
     "text": [
      "/Library/Frameworks/Python.framework/Versions/3.10/lib/python3.10/site-packages/joblib/externals/loky/process_executor.py:700: UserWarning: A worker stopped while some jobs were given to the executor. This can be caused by a too short worker timeout or by a memory leak.\n",
      "  warnings.warn(\n"
     ]
    },
    {
     "name": "stdout",
     "output_type": "stream",
     "text": [
      "PCA dimension =  192\n",
      "Best rand score =  0.8997181256857093\n",
      "Best parameters =  {'bandwidth': 0.6}\n",
      "Number of clusters =  28000\n"
     ]
    },
    {
     "name": "stderr",
     "output_type": "stream",
     "text": [
      "/Library/Frameworks/Python.framework/Versions/3.10/lib/python3.10/site-packages/joblib/externals/loky/process_executor.py:700: UserWarning: A worker stopped while some jobs were given to the executor. This can be caused by a too short worker timeout or by a memory leak.\n",
      "  warnings.warn(\n"
     ]
    },
    {
     "name": "stdout",
     "output_type": "stream",
     "text": [
      "PCA dimension =  202\n",
      "Best rand score =  0.9072103947133418\n",
      "Best parameters =  {'bandwidth': 5}\n",
      "Number of clusters =  6310\n"
     ]
    }
   ],
   "source": [
    "print('-- MEAN SHIFT --')\n",
    "result = tune_model(\"MeanShift\", MAX_PCA_DIM, DATASET_PERC)\n",
    "save_results(\"MeanShift\",result)"
   ]
  },
  {
   "cell_type": "code",
   "execution_count": 3,
   "id": "9e910eee",
   "metadata": {},
   "outputs": [
    {
     "name": "stdout",
     "output_type": "stream",
     "text": [
      "-- NORMALIZED CUT --\n"
     ]
    },
    {
     "name": "stderr",
     "output_type": "stream",
     "text": [
      "Loading the PCA training datasets..: 100%|██████████| 21/21 [00:00<00:00, 55.59it/s]\n"
     ]
    },
    {
     "data": {
      "application/vnd.jupyter.widget-view+json": {
       "model_id": "2f1975f7197241eb960ef64d16d68585",
       "version_major": 2,
       "version_minor": 0
      },
      "text/plain": [
       "Tuning NormalizedCut ..:   0%|          | 0/21 [00:00<?, ?it/s]"
      ]
     },
     "metadata": {},
     "output_type": "display_data"
    },
    {
     "ename": "AttributeError",
     "evalue": "'GridSearchCV' object has no attribute 'fit_predict'",
     "output_type": "error",
     "traceback": [
      "\u001b[0;31m---------------------------------------------------------------------------\u001b[0m",
      "\u001b[0;31mAttributeError\u001b[0m                            Traceback (most recent call last)",
      "Cell \u001b[0;32mIn[3], line 2\u001b[0m\n\u001b[1;32m      1\u001b[0m \u001b[39mprint\u001b[39m(\u001b[39m'\u001b[39m\u001b[39m-- NORMALIZED CUT --\u001b[39m\u001b[39m'\u001b[39m)\n\u001b[0;32m----> 2\u001b[0m result \u001b[39m=\u001b[39m tune_model(\u001b[39m\"\u001b[39;49m\u001b[39mNormalizedCut\u001b[39;49m\u001b[39m\"\u001b[39;49m, MAX_PCA_DIM, DATASET_PERC)\n\u001b[1;32m      3\u001b[0m save_results(\u001b[39m\"\u001b[39m\u001b[39mNormalizedCut\u001b[39m\u001b[39m\"\u001b[39m,result)\n",
      "File \u001b[0;32m~/Desktop/UNI/Clustering/GridSearch_tuning.py:83\u001b[0m, in \u001b[0;36mtune_model\u001b[0;34m(model_name, max_pca_dim, dataset_percentage)\u001b[0m\n\u001b[1;32m     80\u001b[0m         \u001b[39mprint\u001b[39m(\u001b[39m\"\u001b[39m\u001b[39mWrong model name...\u001b[39m\u001b[39m\"\u001b[39m)\n\u001b[1;32m     81\u001b[0m         exit(\u001b[39m1\u001b[39m)\n\u001b[0;32m---> 83\u001b[0m \u001b[39mreturn\u001b[39;00m get_results(X_train, y_train, model, model_name)\n",
      "File \u001b[0;32m~/Desktop/UNI/Clustering/GridSearch_tuning.py:25\u001b[0m, in \u001b[0;36mget_results\u001b[0;34m(X_train, y_train, model, model_name)\u001b[0m\n\u001b[1;32m     23\u001b[0m start \u001b[39m=\u001b[39m time\u001b[39m.\u001b[39mtime()\n\u001b[1;32m     24\u001b[0m \u001b[39mif\u001b[39;00m model_name \u001b[39m==\u001b[39m \u001b[39m\"\u001b[39m\u001b[39mNormalizedCut\u001b[39m\u001b[39m\"\u001b[39m:\n\u001b[0;32m---> 25\u001b[0m     model\u001b[39m.\u001b[39;49mfit_predict(X_train[dim], y_train)\n\u001b[1;32m     26\u001b[0m \u001b[39melse\u001b[39;00m:\n\u001b[1;32m     27\u001b[0m     model\u001b[39m.\u001b[39mfit(X_train[dim], y_train)\n",
      "\u001b[0;31mAttributeError\u001b[0m: 'GridSearchCV' object has no attribute 'fit_predict'"
     ]
    }
   ],
   "source": [
    "print('-- NORMALIZED CUT --')\n",
    "result = tune_model(\"NormalizedCut\", MAX_PCA_DIM, DATASET_PERC)\n",
    "save_results(\"NormalizedCut\",result)"
   ]
  }
 ],
 "metadata": {
  "kernelspec": {
   "display_name": "Python 3 (ipykernel)",
   "language": "python",
   "name": "python3"
  },
  "language_info": {
   "codemirror_mode": {
    "name": "ipython",
    "version": 3
   },
   "file_extension": ".py",
   "mimetype": "text/x-python",
   "name": "python",
   "nbconvert_exporter": "python",
   "pygments_lexer": "ipython3",
   "version": "3.10.7"
  },
  "vscode": {
   "interpreter": {
    "hash": "aee8b7b246df8f9039afb4144a1f6fd8d2ca17a180786b69acc140d282b71a49"
   }
  }
 },
 "nbformat": 4,
 "nbformat_minor": 5
}
