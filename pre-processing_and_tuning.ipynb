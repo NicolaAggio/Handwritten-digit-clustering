{
 "cells": [
  {
   "cell_type": "code",
   "execution_count": 1,
   "id": "440ef22d",
   "metadata": {},
   "outputs": [],
   "source": [
    "from sklearn.preprocessing import StandardScaler\n",
    "from loading import download_dataset\n",
    "from pre_processing import apply_PCA\n",
    "from GridSearch_tuning import tune_model, save_results\n",
    "\n",
    "PCA_DIMENSIONS = list(range(10,200+10,10))\n",
    "PCA_DIMENSIONS.insert(0,2)\n",
    "DATASET_PERC = 0.5\n",
    "TEST_SIZE = 0.2"
   ]
  },
  {
   "cell_type": "markdown",
   "id": "a57eb176",
   "metadata": {},
   "source": [
    "## Dataset"
   ]
  },
  {
   "cell_type": "code",
   "execution_count": 2,
   "id": "d0614578",
   "metadata": {},
   "outputs": [],
   "source": [
    "X,y = download_dataset()"
   ]
  },
  {
   "cell_type": "code",
   "execution_count": null,
   "id": "ebd3e512",
   "metadata": {},
   "outputs": [],
   "source": [
    "X"
   ]
  },
  {
   "cell_type": "code",
   "execution_count": null,
   "id": "003925ae",
   "metadata": {},
   "outputs": [],
   "source": [
    "y"
   ]
  },
  {
   "cell_type": "code",
   "execution_count": null,
   "id": "a700a880",
   "metadata": {},
   "outputs": [],
   "source": [
    "# plot_digits(10, X, y)"
   ]
  },
  {
   "cell_type": "markdown",
   "id": "6f35bf41",
   "metadata": {},
   "source": [
    "## Pre-processing "
   ]
  },
  {
   "cell_type": "code",
   "execution_count": null,
   "id": "89c8aa22",
   "metadata": {},
   "outputs": [],
   "source": [
    "apply_PCA(X,y,PCA_DIMENSIONS,DATASET_PERC,TEST_SIZE)"
   ]
  },
  {
   "cell_type": "markdown",
   "id": "db72ec94",
   "metadata": {},
   "source": [
    "## Tuning"
   ]
  },
  {
   "cell_type": "code",
   "execution_count": null,
   "id": "2cd7c461",
   "metadata": {},
   "outputs": [],
   "source": [
    "# print('-- GAUSSIAN MIXTURE --')\n",
    "# result = tune_model(\"GaussianMixture\", MAX_PCA_DIM, DATASET_PERC)\n",
    "# new_save_results(\"GaussianMixture\",result)"
   ]
  },
  {
   "cell_type": "markdown",
   "id": "21c2a641",
   "metadata": {},
   "source": [
    "## New Tuning"
   ]
  },
  {
   "cell_type": "code",
   "execution_count": null,
   "id": "84940f7b",
   "metadata": {},
   "outputs": [],
   "source": [
    "# print('-- GAUSSIAN MIXTURE --')\n",
    "# result = tune_model(\"GaussianMixture\", PCA_DIMENSIONS, DATASET_PERC)\n",
    "# save_results(\"GaussianMixture\",result)"
   ]
  },
  {
   "cell_type": "code",
   "execution_count": 3,
   "id": "a6cd75a4",
   "metadata": {},
   "outputs": [],
   "source": [
    "# print('-- MEAN SHIFT --')\n",
    "# result = tune_model(\"MeanShift\", PCA_DIMENSIONS, DATASET_PERC)\n",
    "# save_results(\"MeanShift\",result)"
   ]
  },
  {
   "cell_type": "code",
   "execution_count": 4,
   "id": "9e910eee",
   "metadata": {},
   "outputs": [
    {
     "name": "stdout",
     "output_type": "stream",
     "text": [
      "-- NORMALIZED CUT --\n"
     ]
    },
    {
     "name": "stderr",
     "output_type": "stream",
     "text": [
      "Loading the PCA training datasets..: 100%|██████████| 21/21 [00:00<00:00, 60.58it/s] \n"
     ]
    },
    {
     "data": {
      "application/vnd.jupyter.widget-view+json": {
       "model_id": "2ccf9a38362644aab6ab21cbf8a7077f",
       "version_major": 2,
       "version_minor": 0
      },
      "text/plain": [
       "Tuning NormalizedCut ..:   0%|          | 0/21 [00:00<?, ?it/s]"
      ]
     },
     "metadata": {},
     "output_type": "display_data"
    },
    {
     "name": "stderr",
     "output_type": "stream",
     "text": [
      "/Library/Frameworks/Python.framework/Versions/3.10/lib/python3.10/site-packages/sklearn/manifold/_spectral_embedding.py:374: UserWarning: Exited at iteration 142 with accuracies \n",
      "[7.56381826e-16 2.21480859e-06 2.97160538e-06 3.31748902e-06\n",
      " 3.27039767e-06 5.37056708e-06 9.18659630e-07 2.60303081e-06\n",
      " 6.97802307e-06 7.06866080e-06 1.01183034e-05 9.09540575e-06]\n",
      "not reaching the requested tolerance 1e-05.\n",
      "  _, diffusion_map = lobpcg(\n",
      "/Library/Frameworks/Python.framework/Versions/3.10/lib/python3.10/site-packages/sklearn/manifold/_spectral_embedding.py:374: UserWarning: Exited at iteration 182 with accuracies \n",
      "[5.20201596e-16 3.17166928e-06 2.43441160e-06 2.17587388e-06\n",
      " 1.89992977e-06 6.42278147e-06 2.28858425e-06 5.73840764e-06\n",
      " 4.33168988e-06 6.20869526e-06 3.31773989e-06 5.49710261e-06\n",
      " 6.79090209e-06 9.77652861e-06 1.01597018e-05]\n",
      "not reaching the requested tolerance 1e-05.\n",
      "  _, diffusion_map = lobpcg(\n",
      "/Library/Frameworks/Python.framework/Versions/3.10/lib/python3.10/site-packages/sklearn/manifold/_spectral_embedding.py:374: UserWarning: Exited at iteration 142 with accuracies \n",
      "[7.56381826e-16 2.21480859e-06 2.97160538e-06 3.31748902e-06\n",
      " 3.27039767e-06 5.37056708e-06 9.18659630e-07 2.60303081e-06\n",
      " 6.97802307e-06 7.06866080e-06 1.01183034e-05 9.09540575e-06]\n",
      "not reaching the requested tolerance 1e-05.\n",
      "  _, diffusion_map = lobpcg(\n",
      "/Library/Frameworks/Python.framework/Versions/3.10/lib/python3.10/site-packages/sklearn/manifold/_spectral_embedding.py:374: UserWarning: Exited at iteration 182 with accuracies \n",
      "[5.20201596e-16 3.17166928e-06 2.43441160e-06 2.17587388e-06\n",
      " 1.89992977e-06 6.42278147e-06 2.28858425e-06 5.73840764e-06\n",
      " 4.33168988e-06 6.20869526e-06 3.31773989e-06 5.49710261e-06\n",
      " 6.79090209e-06 9.77652861e-06 1.01597018e-05]\n",
      "not reaching the requested tolerance 1e-05.\n",
      "  _, diffusion_map = lobpcg(\n",
      "/Library/Frameworks/Python.framework/Versions/3.10/lib/python3.10/site-packages/sklearn/manifold/_spectral_embedding.py:374: UserWarning: Exited at iteration 142 with accuracies \n",
      "[7.56381826e-16 2.21480859e-06 2.97160538e-06 3.31748902e-06\n",
      " 3.27039767e-06 5.37056708e-06 9.18659630e-07 2.60303081e-06\n",
      " 6.97802307e-06 7.06866080e-06 1.01183034e-05 9.09540575e-06]\n",
      "not reaching the requested tolerance 1e-05.\n",
      "  _, diffusion_map = lobpcg(\n",
      "/Library/Frameworks/Python.framework/Versions/3.10/lib/python3.10/site-packages/sklearn/manifold/_spectral_embedding.py:374: UserWarning: Exited at iteration 182 with accuracies \n",
      "[5.20201596e-16 3.17166928e-06 2.43441160e-06 2.17587388e-06\n",
      " 1.89992977e-06 6.42278147e-06 2.28858425e-06 5.73840764e-06\n",
      " 4.33168988e-06 6.20869526e-06 3.31773989e-06 5.49710261e-06\n",
      " 6.79090209e-06 9.77652861e-06 1.01597018e-05]\n",
      "not reaching the requested tolerance 1e-05.\n",
      "  _, diffusion_map = lobpcg(\n"
     ]
    },
    {
     "name": "stdout",
     "output_type": "stream",
     "text": [
      "PCA dimension =  2\n",
      "Best rand score =  0.8453061643660857\n",
      "Best parameters =  {'assign_labels': 'discretize', 'n_clusters': 15}\n",
      "PCA dimension =  10\n",
      "Best rand score =  0.8303717117852678\n",
      "Best parameters =  {'assign_labels': 'discretize', 'n_clusters': 15}\n"
     ]
    },
    {
     "name": "stderr",
     "output_type": "stream",
     "text": [
      "/Library/Frameworks/Python.framework/Versions/3.10/lib/python3.10/site-packages/sklearn/manifold/_spectral_embedding.py:374: UserWarning: Exited at iteration 2000 with accuracies \n",
      "[1.04951222e+03 3.37230788e-06 1.53662958e-06 1.95068990e-08\n",
      " 2.70098792e-06 2.39561158e-06 2.70464656e-06 4.09832874e-06\n",
      " 5.57600888e-06 4.00673906e-06 7.99908255e-06 6.47052512e-06\n",
      " 2.99038868e-06 1.37387399e-07 4.24115328e-03 7.22676762e-03]\n",
      "not reaching the requested tolerance 1e-05.\n",
      "  _, diffusion_map = lobpcg(\n",
      "/Library/Frameworks/Python.framework/Versions/3.10/lib/python3.10/site-packages/sklearn/manifold/_spectral_embedding.py:374: UserWarning: Exited at iteration 2000 with accuracies \n",
      "[1.04951222e+03 3.37230788e-06 1.53662958e-06 1.95068990e-08\n",
      " 2.70098792e-06 2.39561158e-06 2.70464656e-06 4.09832874e-06\n",
      " 5.57600888e-06 4.00673906e-06 7.99908255e-06 6.47052512e-06\n",
      " 2.99038868e-06 1.37387399e-07 4.24115328e-03 7.22676762e-03]\n",
      "not reaching the requested tolerance 1e-05.\n",
      "  _, diffusion_map = lobpcg(\n",
      "/Library/Frameworks/Python.framework/Versions/3.10/lib/python3.10/site-packages/sklearn/manifold/_spectral_embedding.py:374: UserWarning: Exited at iteration 2000 with accuracies \n",
      "[1.04951222e+03 3.37230788e-06 1.53662958e-06 1.95068990e-08\n",
      " 2.70098792e-06 2.39561158e-06 2.70464656e-06 4.09832874e-06\n",
      " 5.57600888e-06 4.00673906e-06 7.99908255e-06 6.47052512e-06\n",
      " 2.99038868e-06 1.37387399e-07 4.24115328e-03 7.22676762e-03]\n",
      "not reaching the requested tolerance 1e-05.\n",
      "  _, diffusion_map = lobpcg(\n"
     ]
    },
    {
     "name": "stdout",
     "output_type": "stream",
     "text": [
      "PCA dimension =  20\n",
      "Best rand score =  0.8308056923430204\n",
      "Best parameters =  {'assign_labels': 'discretize', 'n_clusters': 14}\n"
     ]
    },
    {
     "name": "stderr",
     "output_type": "stream",
     "text": [
      "/Library/Frameworks/Python.framework/Versions/3.10/lib/python3.10/site-packages/joblib/externals/loky/process_executor.py:700: UserWarning: A worker stopped while some jobs were given to the executor. This can be caused by a too short worker timeout or by a memory leak.\n",
      "  warnings.warn(\n",
      "/Library/Frameworks/Python.framework/Versions/3.10/lib/python3.10/site-packages/sklearn/manifold/_spectral_embedding.py:374: UserWarning: Exited at iteration 2000 with accuracies \n",
      "[1.08742211e-12 3.18035658e-06 2.39932565e-06 2.13710572e-06\n",
      " 3.23308256e-06 3.23594238e-06 2.68130954e-06 2.23418590e-06\n",
      " 4.68250019e-06 4.87178744e-06 3.87314080e-06 9.39853334e-06\n",
      " 4.20816893e-05 1.16318383e-05 5.52951402e-06]\n",
      "not reaching the requested tolerance 1e-05.\n",
      "  _, diffusion_map = lobpcg(\n",
      "/Library/Frameworks/Python.framework/Versions/3.10/lib/python3.10/site-packages/sklearn/manifold/_spectral_embedding.py:374: UserWarning: Exited at iteration 2000 with accuracies \n",
      "[1.08742211e-12 3.18035658e-06 2.39932565e-06 2.13710572e-06\n",
      " 3.23308256e-06 3.23594238e-06 2.68130954e-06 2.23418590e-06\n",
      " 4.68250019e-06 4.87178744e-06 3.87314080e-06 9.39853334e-06\n",
      " 4.20816893e-05 1.16318383e-05 5.52951402e-06]\n",
      "not reaching the requested tolerance 1e-05.\n",
      "  _, diffusion_map = lobpcg(\n",
      "/Library/Frameworks/Python.framework/Versions/3.10/lib/python3.10/site-packages/sklearn/manifold/_spectral_embedding.py:374: UserWarning: Exited at iteration 2000 with accuracies \n",
      "[1.08742211e-12 3.18035658e-06 2.39932565e-06 2.13710572e-06\n",
      " 3.23308256e-06 3.23594238e-06 2.68130954e-06 2.23418590e-06\n",
      " 4.68250019e-06 4.87178744e-06 3.87314080e-06 9.39853334e-06\n",
      " 4.20816893e-05 1.16318383e-05 5.52951402e-06]\n",
      "not reaching the requested tolerance 1e-05.\n",
      "  _, diffusion_map = lobpcg(\n"
     ]
    },
    {
     "name": "stdout",
     "output_type": "stream",
     "text": [
      "PCA dimension =  30\n",
      "Best rand score =  0.8344747148725539\n",
      "Best parameters =  {'assign_labels': 'discretize', 'n_clusters': 15}\n",
      "PCA dimension =  40\n",
      "Best rand score =  0.8343145332074606\n",
      "Best parameters =  {'assign_labels': 'discretize', 'n_clusters': 15}\n",
      "PCA dimension =  50\n",
      "Best rand score =  0.8338929655805882\n",
      "Best parameters =  {'assign_labels': 'discretize', 'n_clusters': 15}\n",
      "PCA dimension =  60\n",
      "Best rand score =  0.8343845839818333\n",
      "Best parameters =  {'assign_labels': 'discretize', 'n_clusters': 15}\n",
      "PCA dimension =  70\n",
      "Best rand score =  0.8332271961829918\n",
      "Best parameters =  {'assign_labels': 'cluster_qr', 'n_clusters': 15}\n",
      "PCA dimension =  80\n",
      "Best rand score =  0.8342134947567168\n",
      "Best parameters =  {'assign_labels': 'discretize', 'n_clusters': 15}\n",
      "PCA dimension =  90\n",
      "Best rand score =  0.8335901181333402\n",
      "Best parameters =  {'assign_labels': 'discretize', 'n_clusters': 15}\n"
     ]
    },
    {
     "name": "stderr",
     "output_type": "stream",
     "text": [
      "/Library/Frameworks/Python.framework/Versions/3.10/lib/python3.10/site-packages/sklearn/manifold/_spectral_embedding.py:374: UserWarning: Exited at iteration 70 with accuracies \n",
      "[2.01051329e-16 3.38856595e-06 2.07682278e-06 2.76504757e-06\n",
      " 8.96109280e-06 1.00011551e-05]\n",
      "not reaching the requested tolerance 1e-05.\n",
      "  _, diffusion_map = lobpcg(\n",
      "/Library/Frameworks/Python.framework/Versions/3.10/lib/python3.10/site-packages/sklearn/manifold/_spectral_embedding.py:374: UserWarning: Exited at iteration 81 with accuracies \n",
      "[1.87339733e-16 2.58922894e-06 3.13998931e-06 5.10095532e-06\n",
      " 3.02069632e-06 5.10510218e-06 4.98389285e-06 5.64950535e-06\n",
      " 1.03055966e-05 8.82186414e-06]\n",
      "not reaching the requested tolerance 1e-05.\n",
      "  _, diffusion_map = lobpcg(\n",
      "/Library/Frameworks/Python.framework/Versions/3.10/lib/python3.10/site-packages/sklearn/manifold/_spectral_embedding.py:374: UserWarning: Exited at iteration 70 with accuracies \n",
      "[2.01051329e-16 3.38856595e-06 2.07682278e-06 2.76504757e-06\n",
      " 8.96109280e-06 1.00011551e-05]\n",
      "not reaching the requested tolerance 1e-05.\n",
      "  _, diffusion_map = lobpcg(\n",
      "/Library/Frameworks/Python.framework/Versions/3.10/lib/python3.10/site-packages/sklearn/manifold/_spectral_embedding.py:374: UserWarning: Exited at iteration 81 with accuracies \n",
      "[1.87339733e-16 2.58922894e-06 3.13998931e-06 5.10095532e-06\n",
      " 3.02069632e-06 5.10510218e-06 4.98389285e-06 5.64950535e-06\n",
      " 1.03055966e-05 8.82186414e-06]\n",
      "not reaching the requested tolerance 1e-05.\n",
      "  _, diffusion_map = lobpcg(\n",
      "/Library/Frameworks/Python.framework/Versions/3.10/lib/python3.10/site-packages/sklearn/manifold/_spectral_embedding.py:374: UserWarning: Exited at iteration 70 with accuracies \n",
      "[2.01051329e-16 3.38856595e-06 2.07682278e-06 2.76504757e-06\n",
      " 8.96109280e-06 1.00011551e-05]\n",
      "not reaching the requested tolerance 1e-05.\n",
      "  _, diffusion_map = lobpcg(\n",
      "/Library/Frameworks/Python.framework/Versions/3.10/lib/python3.10/site-packages/sklearn/manifold/_spectral_embedding.py:374: UserWarning: Exited at iteration 81 with accuracies \n",
      "[1.87339733e-16 2.58922894e-06 3.13998931e-06 5.10095532e-06\n",
      " 3.02069632e-06 5.10510218e-06 4.98389285e-06 5.64950535e-06\n",
      " 1.03055966e-05 8.82186414e-06]\n",
      "not reaching the requested tolerance 1e-05.\n",
      "  _, diffusion_map = lobpcg(\n"
     ]
    },
    {
     "name": "stdout",
     "output_type": "stream",
     "text": [
      "PCA dimension =  100\n",
      "Best rand score =  0.8333237695506851\n",
      "Best parameters =  {'assign_labels': 'discretize', 'n_clusters': 15}\n"
     ]
    },
    {
     "name": "stderr",
     "output_type": "stream",
     "text": [
      "/Library/Frameworks/Python.framework/Versions/3.10/lib/python3.10/site-packages/sklearn/manifold/_spectral_embedding.py:374: UserWarning: Exited at iteration 88 with accuracies \n",
      "[3.13039240e-16 4.07649107e-06 2.52514144e-06 4.32913353e-06\n",
      " 4.31901734e-06 3.69786311e-06 3.85776651e-06 1.95755058e-06\n",
      " 7.48845706e-06 2.98871525e-06 9.49208107e-06 1.00586638e-05]\n",
      "not reaching the requested tolerance 1e-05.\n",
      "  _, diffusion_map = lobpcg(\n",
      "/Library/Frameworks/Python.framework/Versions/3.10/lib/python3.10/site-packages/sklearn/manifold/_spectral_embedding.py:374: UserWarning: Exited at iteration 88 with accuracies \n",
      "[3.13039240e-16 4.07649107e-06 2.52514144e-06 4.32913353e-06\n",
      " 4.31901734e-06 3.69786311e-06 3.85776651e-06 1.95755058e-06\n",
      " 7.48845706e-06 2.98871525e-06 9.49208107e-06 1.00586638e-05]\n",
      "not reaching the requested tolerance 1e-05.\n",
      "  _, diffusion_map = lobpcg(\n",
      "/Library/Frameworks/Python.framework/Versions/3.10/lib/python3.10/site-packages/sklearn/manifold/_spectral_embedding.py:374: UserWarning: Exited at iteration 88 with accuracies \n",
      "[3.13039240e-16 4.07649107e-06 2.52514144e-06 4.32913353e-06\n",
      " 4.31901734e-06 3.69786311e-06 3.85776651e-06 1.95755058e-06\n",
      " 7.48845706e-06 2.98871525e-06 9.49208107e-06 1.00586638e-05]\n",
      "not reaching the requested tolerance 1e-05.\n",
      "  _, diffusion_map = lobpcg(\n"
     ]
    },
    {
     "name": "stdout",
     "output_type": "stream",
     "text": [
      "PCA dimension =  110\n",
      "Best rand score =  0.83521730921338\n",
      "Best parameters =  {'assign_labels': 'discretize', 'n_clusters': 15}\n"
     ]
    },
    {
     "name": "stderr",
     "output_type": "stream",
     "text": [
      "/Library/Frameworks/Python.framework/Versions/3.10/lib/python3.10/site-packages/joblib/externals/loky/process_executor.py:700: UserWarning: A worker stopped while some jobs were given to the executor. This can be caused by a too short worker timeout or by a memory leak.\n",
      "  warnings.warn(\n"
     ]
    },
    {
     "name": "stdout",
     "output_type": "stream",
     "text": [
      "PCA dimension =  120\n",
      "Best rand score =  0.8333182711198429\n",
      "Best parameters =  {'assign_labels': 'discretize', 'n_clusters': 15}\n"
     ]
    },
    {
     "name": "stderr",
     "output_type": "stream",
     "text": [
      "/Library/Frameworks/Python.framework/Versions/3.10/lib/python3.10/site-packages/sklearn/manifold/_spectral_embedding.py:374: UserWarning: Exited at iteration 107 with accuracies \n",
      "[1.48324050e-14 2.09673099e-06 2.27580945e-06 2.90252800e-06\n",
      " 2.42043298e-06 1.70728560e-06 2.40966758e-06 2.63366074e-06\n",
      " 4.16661449e-06 3.54750940e-06 3.19114160e-06 2.07006327e-06\n",
      " 6.12382661e-06 6.80632915e-06 8.64061363e-06 1.00232521e-05]\n",
      "not reaching the requested tolerance 1e-05.\n",
      "  _, diffusion_map = lobpcg(\n",
      "/Library/Frameworks/Python.framework/Versions/3.10/lib/python3.10/site-packages/joblib/externals/loky/process_executor.py:700: UserWarning: A worker stopped while some jobs were given to the executor. This can be caused by a too short worker timeout or by a memory leak.\n",
      "  warnings.warn(\n",
      "/Library/Frameworks/Python.framework/Versions/3.10/lib/python3.10/site-packages/sklearn/manifold/_spectral_embedding.py:374: UserWarning: Exited at iteration 107 with accuracies \n",
      "[1.48324050e-14 2.09673099e-06 2.27580945e-06 2.90252800e-06\n",
      " 2.42043298e-06 1.70728560e-06 2.40966758e-06 2.63366074e-06\n",
      " 4.16661449e-06 3.54750940e-06 3.19114160e-06 2.07006327e-06\n",
      " 6.12382661e-06 6.80632915e-06 8.64061363e-06 1.00232521e-05]\n",
      "not reaching the requested tolerance 1e-05.\n",
      "  _, diffusion_map = lobpcg(\n",
      "/Library/Frameworks/Python.framework/Versions/3.10/lib/python3.10/site-packages/sklearn/manifold/_spectral_embedding.py:374: UserWarning: Exited at iteration 107 with accuracies \n",
      "[1.48324050e-14 2.09673099e-06 2.27580945e-06 2.90252800e-06\n",
      " 2.42043298e-06 1.70728560e-06 2.40966758e-06 2.63366074e-06\n",
      " 4.16661449e-06 3.54750940e-06 3.19114160e-06 2.07006327e-06\n",
      " 6.12382661e-06 6.80632915e-06 8.64061363e-06 1.00232521e-05]\n",
      "not reaching the requested tolerance 1e-05.\n",
      "  _, diffusion_map = lobpcg(\n"
     ]
    },
    {
     "name": "stdout",
     "output_type": "stream",
     "text": [
      "PCA dimension =  130\n",
      "Best rand score =  0.8346593141632435\n",
      "Best parameters =  {'assign_labels': 'discretize', 'n_clusters': 15}\n",
      "PCA dimension =  140\n",
      "Best rand score =  0.8345592325160105\n",
      "Best parameters =  {'assign_labels': 'discretize', 'n_clusters': 15}\n"
     ]
    },
    {
     "name": "stderr",
     "output_type": "stream",
     "text": [
      "/Library/Frameworks/Python.framework/Versions/3.10/lib/python3.10/site-packages/joblib/externals/loky/process_executor.py:700: UserWarning: A worker stopped while some jobs were given to the executor. This can be caused by a too short worker timeout or by a memory leak.\n",
      "  warnings.warn(\n"
     ]
    },
    {
     "name": "stdout",
     "output_type": "stream",
     "text": [
      "PCA dimension =  150\n",
      "Best rand score =  0.8341406246013318\n",
      "Best parameters =  {'assign_labels': 'discretize', 'n_clusters': 15}\n"
     ]
    },
    {
     "name": "stderr",
     "output_type": "stream",
     "text": [
      "/Library/Frameworks/Python.framework/Versions/3.10/lib/python3.10/site-packages/joblib/externals/loky/process_executor.py:700: UserWarning: A worker stopped while some jobs were given to the executor. This can be caused by a too short worker timeout or by a memory leak.\n",
      "  warnings.warn(\n"
     ]
    },
    {
     "name": "stdout",
     "output_type": "stream",
     "text": [
      "PCA dimension =  160\n",
      "Best rand score =  0.8364993238588523\n",
      "Best parameters =  {'assign_labels': 'discretize', 'n_clusters': 15}\n"
     ]
    },
    {
     "name": "stderr",
     "output_type": "stream",
     "text": [
      "/Library/Frameworks/Python.framework/Versions/3.10/lib/python3.10/site-packages/joblib/externals/loky/process_executor.py:700: UserWarning: A worker stopped while some jobs were given to the executor. This can be caused by a too short worker timeout or by a memory leak.\n",
      "  warnings.warn(\n"
     ]
    },
    {
     "name": "stdout",
     "output_type": "stream",
     "text": [
      "PCA dimension =  170\n",
      "Best rand score =  0.8342185084071134\n",
      "Best parameters =  {'assign_labels': 'discretize', 'n_clusters': 15}\n"
     ]
    },
    {
     "name": "stderr",
     "output_type": "stream",
     "text": [
      "/Library/Frameworks/Python.framework/Versions/3.10/lib/python3.10/site-packages/sklearn/manifold/_spectral_embedding.py:374: UserWarning: Exited at iteration 88 with accuracies \n",
      "[3.38412410e-16 3.81322942e-06 4.46302025e-06 3.81051243e-06\n",
      " 4.32182403e-06 1.40459342e-06 3.69953519e-06 6.29798436e-06\n",
      " 2.07863699e-06 1.01283283e-05 8.53140413e-06]\n",
      "not reaching the requested tolerance 1e-05.\n",
      "  _, diffusion_map = lobpcg(\n",
      "/Library/Frameworks/Python.framework/Versions/3.10/lib/python3.10/site-packages/sklearn/manifold/_spectral_embedding.py:374: UserWarning: Exited at iteration 2000 with accuracies \n",
      "[1.11622476e-12 1.37585798e-05 6.96112734e-06 1.82970346e-05\n",
      " 1.55209821e-05 4.59561494e-06 2.87047980e-05 4.51884223e-06\n",
      " 1.07731803e-05 8.56980986e-06]\n",
      "not reaching the requested tolerance 1e-05.\n",
      "  _, diffusion_map = lobpcg(\n",
      "/Library/Frameworks/Python.framework/Versions/3.10/lib/python3.10/site-packages/joblib/externals/loky/process_executor.py:700: UserWarning: A worker stopped while some jobs were given to the executor. This can be caused by a too short worker timeout or by a memory leak.\n",
      "  warnings.warn(\n",
      "/Library/Frameworks/Python.framework/Versions/3.10/lib/python3.10/site-packages/sklearn/manifold/_spectral_embedding.py:374: UserWarning: Exited at iteration 88 with accuracies \n",
      "[3.38412410e-16 3.81322942e-06 4.46302025e-06 3.81051243e-06\n",
      " 4.32182403e-06 1.40459342e-06 3.69953519e-06 6.29798436e-06\n",
      " 2.07863699e-06 1.01283283e-05 8.53140413e-06]\n",
      "not reaching the requested tolerance 1e-05.\n",
      "  _, diffusion_map = lobpcg(\n",
      "/Library/Frameworks/Python.framework/Versions/3.10/lib/python3.10/site-packages/sklearn/manifold/_spectral_embedding.py:374: UserWarning: Exited at iteration 2000 with accuracies \n",
      "[1.11622476e-12 1.37585798e-05 6.96112734e-06 1.82970346e-05\n",
      " 1.55209821e-05 4.59561494e-06 2.87047980e-05 4.51884223e-06\n",
      " 1.07731803e-05 8.56980986e-06]\n",
      "not reaching the requested tolerance 1e-05.\n",
      "  _, diffusion_map = lobpcg(\n",
      "/Library/Frameworks/Python.framework/Versions/3.10/lib/python3.10/site-packages/sklearn/manifold/_spectral_embedding.py:374: UserWarning: Exited at iteration 88 with accuracies \n",
      "[3.38412410e-16 3.81322942e-06 4.46302025e-06 3.81051243e-06\n",
      " 4.32182403e-06 1.40459342e-06 3.69953519e-06 6.29798436e-06\n",
      " 2.07863699e-06 1.01283283e-05 8.53140413e-06]\n",
      "not reaching the requested tolerance 1e-05.\n",
      "  _, diffusion_map = lobpcg(\n",
      "/Library/Frameworks/Python.framework/Versions/3.10/lib/python3.10/site-packages/sklearn/manifold/_spectral_embedding.py:374: UserWarning: Exited at iteration 2000 with accuracies \n",
      "[1.11622476e-12 1.37585798e-05 6.96112734e-06 1.82970346e-05\n",
      " 1.55209821e-05 4.59561494e-06 2.87047980e-05 4.51884223e-06\n",
      " 1.07731803e-05 8.56980986e-06]\n",
      "not reaching the requested tolerance 1e-05.\n",
      "  _, diffusion_map = lobpcg(\n"
     ]
    },
    {
     "name": "stdout",
     "output_type": "stream",
     "text": [
      "PCA dimension =  180\n",
      "Best rand score =  0.8329876763707805\n",
      "Best parameters =  {'assign_labels': 'discretize', 'n_clusters': 15}\n"
     ]
    },
    {
     "name": "stderr",
     "output_type": "stream",
     "text": [
      "/Library/Frameworks/Python.framework/Versions/3.10/lib/python3.10/site-packages/joblib/externals/loky/process_executor.py:700: UserWarning: A worker stopped while some jobs were given to the executor. This can be caused by a too short worker timeout or by a memory leak.\n",
      "  warnings.warn(\n"
     ]
    },
    {
     "name": "stdout",
     "output_type": "stream",
     "text": [
      "PCA dimension =  190\n",
      "Best rand score =  0.8350460286275612\n",
      "Best parameters =  {'assign_labels': 'discretize', 'n_clusters': 15}\n"
     ]
    },
    {
     "name": "stderr",
     "output_type": "stream",
     "text": [
      "/Library/Frameworks/Python.framework/Versions/3.10/lib/python3.10/site-packages/joblib/externals/loky/process_executor.py:700: UserWarning: A worker stopped while some jobs were given to the executor. This can be caused by a too short worker timeout or by a memory leak.\n",
      "  warnings.warn(\n"
     ]
    },
    {
     "name": "stdout",
     "output_type": "stream",
     "text": [
      "PCA dimension =  200\n",
      "Best rand score =  0.9254324496721352\n",
      "Best parameters =  {'assign_labels': 'discretize', 'n_clusters': 13}\n"
     ]
    }
   ],
   "source": [
    "print('-- NORMALIZED CUT --')\n",
    "result = tune_model(\"NormalizedCut\", PCA_DIMENSIONS, DATASET_PERC)\n",
    "save_results(\"NormalizedCut\",result)"
   ]
  }
 ],
 "metadata": {
  "kernelspec": {
   "display_name": "Python 3 (ipykernel)",
   "language": "python",
   "name": "python3"
  },
  "language_info": {
   "codemirror_mode": {
    "name": "ipython",
    "version": 3
   },
   "file_extension": ".py",
   "mimetype": "text/x-python",
   "name": "python",
   "nbconvert_exporter": "python",
   "pygments_lexer": "ipython3",
   "version": "3.10.7"
  },
  "vscode": {
   "interpreter": {
    "hash": "aee8b7b246df8f9039afb4144a1f6fd8d2ca17a180786b69acc140d282b71a49"
   }
  }
 },
 "nbformat": 4,
 "nbformat_minor": 5
}
